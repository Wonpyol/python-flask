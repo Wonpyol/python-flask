{
 "cells": [
  {
   "cell_type": "code",
   "execution_count": 3,
   "metadata": {
    "collapsed": true,
    "ExecuteTime": {
     "end_time": "2023-05-28T11:03:02.743369Z",
     "start_time": "2023-05-28T11:03:02.737180Z"
    }
   },
   "outputs": [
    {
     "name": "stdout",
     "output_type": "stream",
     "text": [
      "call outer func\n",
      "call inner func\n"
     ]
    }
   ],
   "source": [
    "def outer_func():\n",
    "    print(\"call outer func\")\n",
    "    def inner_func(): #nested function\n",
    "        return \"call inner func\"\n",
    "\n",
    "    print(inner_func())\n",
    "\n",
    "outer_func()"
   ]
  },
  {
   "cell_type": "code",
   "execution_count": 4,
   "outputs": [
    {
     "name": "stdout",
     "output_type": "stream",
     "text": [
      "10\n",
      "complex\n"
     ]
    }
   ],
   "source": [
    "def outer_func(num): #first-class-function\n",
    "    def inner_func():\n",
    "        print(num)\n",
    "        return \"complex\"\n",
    "    return inner_func\n",
    "fn = outer_func(10)\n",
    "print(fn()) # closure function"
   ],
   "metadata": {
    "collapsed": false,
    "ExecuteTime": {
     "end_time": "2023-05-28T11:03:02.748423Z",
     "start_time": "2023-05-28T11:03:02.744074Z"
    }
   }
  },
  {
   "cell_type": "code",
   "execution_count": 5,
   "outputs": [
    {
     "name": "stdout",
     "output_type": "stream",
     "text": [
      "<function calc_square at 0x7fb1155ba290>\n",
      "4\n"
     ]
    }
   ],
   "source": [
    "def calc_square(digit):\n",
    "    return digit * digit\n",
    "\n",
    "func = calc_square\n",
    "print(func) # 변수에 함수 할당 가능\n",
    "print(func(2))\n"
   ],
   "metadata": {
    "collapsed": false,
    "ExecuteTime": {
     "end_time": "2023-05-28T11:03:02.779246Z",
     "start_time": "2023-05-28T11:03:02.751817Z"
    }
   }
  },
  {
   "cell_type": "code",
   "execution_count": 6,
   "outputs": [
    {
     "name": "stdout",
     "output_type": "stream",
     "text": [
      "[2, 4, 6, 8]\n"
     ]
    }
   ],
   "source": [
    "def plus(digit):\n",
    "    return digit + digit\n",
    "\n",
    "def minus(digit):\n",
    "    return digit - digit\n",
    "\n",
    "def multiply(digit):\n",
    "    return digit * digit\n",
    "\n",
    "def divide(digit):\n",
    "    return digit / digit\n",
    "\n",
    "def list_test(function, digit_list):\n",
    "    result = list()\n",
    "    for num in digit_list:\n",
    "        result.append(function(num))\n",
    "    print(result)\n",
    "\n",
    "num_list = [1,2,3,4]\n",
    "\n",
    "list_test(plus, num_list)"
   ],
   "metadata": {
    "collapsed": false,
    "ExecuteTime": {
     "end_time": "2023-05-28T11:03:02.779798Z",
     "start_time": "2023-05-28T11:03:02.760076Z"
    }
   }
  },
  {
   "cell_type": "code",
   "execution_count": null,
   "outputs": [],
   "source": [],
   "metadata": {
    "collapsed": false
   }
  },
  {
   "cell_type": "code",
   "execution_count": 7,
   "outputs": [
    {
     "name": "stdout",
     "output_type": "stream",
     "text": [
      "<function logger.<locals>.msg_creator at 0x7fb1155bab00>\n",
      "[INFO]: hello\n"
     ]
    }
   ],
   "source": [
    "def logger(msg): #first-class-function\n",
    "    message = msg\n",
    "    def msg_creator():\n",
    "        print(\"[INFO]:\", message)\n",
    "    return msg_creator\n",
    "\n",
    "log1 = logger(\"hello\")\n",
    "print(log1)\n",
    "log1() #closure function"
   ],
   "metadata": {
    "collapsed": false,
    "ExecuteTime": {
     "end_time": "2023-05-28T11:03:02.780174Z",
     "start_time": "2023-05-28T11:03:02.766126Z"
    }
   }
  },
  {
   "cell_type": "code",
   "execution_count": 8,
   "outputs": [
    {
     "name": "stdout",
     "output_type": "stream",
     "text": [
      "<function html_creator.<locals>.text_wrapper at 0x7fb1155bae60>\n",
      "<h1><h1 태그 표시></h1>\n"
     ]
    }
   ],
   "source": [
    "def html_creator(tag):\n",
    "    def text_wrapper(msg):\n",
    "        print('<{0}><{1}></{0}>'.format(tag, msg))\n",
    "    return text_wrapper\n",
    "\n",
    "h1_html_creator = html_creator('h1')\n",
    "print(h1_html_creator)\n",
    "h1_html_creator('h1 태그 표시')\n",
    "\n"
   ],
   "metadata": {
    "collapsed": false,
    "ExecuteTime": {
     "end_time": "2023-05-28T11:03:02.780499Z",
     "start_time": "2023-05-28T11:03:02.771823Z"
    }
   }
  },
  {
   "cell_type": "code",
   "execution_count": 9,
   "outputs": [
    {
     "name": "stdout",
     "output_type": "stream",
     "text": [
      "time 2023-05-28 20:03:02.775502\n",
      "ok\n",
      "2023-05-28 20:03:02.775759\n"
     ]
    }
   ],
   "source": [
    "import datetime\n",
    "\n",
    "# decorator 함수 정의\n",
    "def datetime_decorator(func):\n",
    "    def wrapper():\n",
    "        print(\"time \"+str(datetime.datetime.now()))\n",
    "        func()\n",
    "        print(datetime.datetime.now())\n",
    "    return wrapper\n",
    "\n",
    "@datetime_decorator\n",
    "def logger_login():\n",
    "    print(\"ok\")\n",
    "\n",
    "logger_login()"
   ],
   "metadata": {
    "collapsed": false,
    "ExecuteTime": {
     "end_time": "2023-05-28T11:03:02.780864Z",
     "start_time": "2023-05-28T11:03:02.777603Z"
    }
   }
  },
  {
   "cell_type": "code",
   "execution_count": 10,
   "outputs": [
    {
     "name": "stdout",
     "output_type": "stream",
     "text": [
      "2023-05-28 20:03:02.781881\n",
      "ok\n"
     ]
    }
   ],
   "source": [
    "import datetime\n",
    "def outer_func(func):\n",
    "    def inner_func(num):\n",
    "        print(datetime.datetime.now())\n",
    "        return func(num)\n",
    "    return inner_func\n",
    "\n",
    "@outer_func\n",
    "def outer_func_print(num):\n",
    "    print(\"ok\")\n",
    "\n",
    "outer_func_print(1)\n"
   ],
   "metadata": {
    "collapsed": false,
    "ExecuteTime": {
     "end_time": "2023-05-28T11:03:02.795024Z",
     "start_time": "2023-05-28T11:03:02.783712Z"
    }
   }
  },
  {
   "cell_type": "code",
   "execution_count": 12,
   "outputs": [
    {
     "name": "stdout",
     "output_type": "stream",
     "text": [
      "function is decorated\n",
      "function is decorated2\n",
      "4\n",
      "function is decorated\n",
      "function is decorated2\n",
      "4\n"
     ]
    }
   ],
   "source": [
    "def general_decorator(function):\n",
    "    def wrapper(*args, **kwargs):\n",
    "        print(\"function is decorated\")\n",
    "        return function(*args, **kwargs)\n",
    "    return wrapper\n",
    "\n",
    "def general_decorator2(function):\n",
    "    def wrapper(*args, **kwargs):\n",
    "        print(\"function is decorated2\")\n",
    "        return function(*args, **kwargs)\n",
    "    return wrapper\n",
    "\n",
    "\n",
    "@general_decorator\n",
    "@general_decorator2\n",
    "def calc_plus(digit):\n",
    "    return digit + digit\n",
    "\n",
    "@general_decorator\n",
    "@general_decorator2\n",
    "def calc_plus2(digit, digit2):\n",
    "    return digit + digit2\n",
    "\n",
    "print(calc_plus(2))\n",
    "print(calc_plus2(2,2))\n"
   ],
   "metadata": {
    "collapsed": false,
    "ExecuteTime": {
     "end_time": "2023-05-28T11:05:23.251089Z",
     "start_time": "2023-05-28T11:05:23.245182Z"
    }
   }
  },
  {
   "cell_type": "code",
   "execution_count": 16,
   "outputs": [
    {
     "name": "stdout",
     "output_type": "stream",
     "text": [
      "<b>test test2</b>\n"
     ]
    }
   ],
   "source": [
    "def mark_bold(function):\n",
    "    def wrapper(*arg, **kwargs):\n",
    "        return '<b>{0}</b>'.format(function(*arg, **kwargs))\n",
    "    return wrapper\n",
    "\n",
    "@mark_bold\n",
    "def add_html(msg, msg1):\n",
    "    return msg+\" \"+msg1\n",
    "\n",
    "print(add_html(\"test\", \"test2\"))\n",
    "\n"
   ],
   "metadata": {
    "collapsed": false,
    "ExecuteTime": {
     "end_time": "2023-05-28T11:21:55.275983Z",
     "start_time": "2023-05-28T11:21:55.272138Z"
    }
   }
  },
  {
   "cell_type": "code",
   "execution_count": 35,
   "outputs": [
    {
     "name": "stdout",
     "output_type": "stream",
     "text": [
      "<h1>test</h1>\n"
     ]
    }
   ],
   "source": [
    "# decorator nested function 에 인자가 있는 경우\n",
    "\n",
    "def h1_tag(function):\n",
    "    def wrapper(self, *args, **kwargs):\n",
    "        return '<h1>{0}</h1>'.format(function(self, *args, **kwargs))\n",
    "    return wrapper\n",
    "\n",
    "\n",
    "class Person:\n",
    "    def __init__(self, first_name, last_name):\n",
    "        self.first_name = first_name\n",
    "        self.last_name = last_name\n",
    "\n",
    "    @h1_tag\n",
    "    def get_name(self):\n",
    "        return self.first_name + ' '+ self.last_name\n",
    "\n",
    "wonpyo = Person('Lee', 'Wonpyo')\n",
    "print(wonpyo.get_name())"
   ],
   "metadata": {
    "collapsed": false,
    "ExecuteTime": {
     "end_time": "2023-05-28T11:42:05.670017Z",
     "start_time": "2023-05-28T11:42:05.659916Z"
    }
   }
  },
  {
   "cell_type": "code",
   "execution_count": 43,
   "outputs": [
    {
     "name": "stdout",
     "output_type": "stream",
     "text": [
      "decorator1 1\n",
      "hello\n",
      "decorator1 1\n",
      "hello\n"
     ]
    }
   ],
   "source": [
    "# decorator function 에 인자가 있는 경우\n",
    "def decorator1(num):\n",
    "    def outer_wrapper(function):\n",
    "        def wrapper(*args, **kwargs):\n",
    "            print(\"decorator1 {}\".format(num))\n",
    "            return function(*args, **kwargs)\n",
    "        return wrapper\n",
    "    return outer_wrapper\n",
    "\n",
    "def print_hello():\n",
    "    print('hello')\n",
    "\n",
    "#데코레이터 없이 실행\n",
    "print_hello2 = decorator1(1)(print_hello)\n",
    "print_hello2()\n",
    "\n",
    "@decorator1(1)\n",
    "def print_hello2():\n",
    "    print('hello')\n",
    "\n",
    "print_hello2()"
   ],
   "metadata": {
    "collapsed": false,
    "ExecuteTime": {
     "end_time": "2023-05-28T11:58:14.306113Z",
     "start_time": "2023-05-28T11:58:14.299580Z"
    }
   }
  },
  {
   "cell_type": "code",
   "execution_count": 50,
   "outputs": [
    {
     "name": "stdout",
     "output_type": "stream",
     "text": [
      "<b>안녕하세요</b>\n"
     ]
    }
   ],
   "source": [
    "\n",
    "def mark_html(tag):\n",
    "    def outer_wrapper(function):\n",
    "        def wrapper(*args, **kwargs):\n",
    "            # return '<'+ tag +'>'+ function(*args, **kwargs) + '</'+ tag +'>'\n",
    "            return '<{0}>{1}</{0}>'.format(tag, function(*args, **kwargs))\n",
    "        return wrapper\n",
    "    return outer_wrapper\n",
    "\n",
    "@mark_html('b')\n",
    "def print_html(msg):\n",
    "    return msg\n",
    "\n",
    "print(print_html(\"안녕하세요\"))\n",
    "\n"
   ],
   "metadata": {
    "collapsed": false,
    "ExecuteTime": {
     "end_time": "2023-05-28T12:15:35.878338Z",
     "start_time": "2023-05-28T12:15:35.872391Z"
    }
   }
  }
 ],
 "metadata": {
  "kernelspec": {
   "display_name": "Python 3",
   "language": "python",
   "name": "python3"
  },
  "language_info": {
   "codemirror_mode": {
    "name": "ipython",
    "version": 2
   },
   "file_extension": ".py",
   "mimetype": "text/x-python",
   "name": "python",
   "nbconvert_exporter": "python",
   "pygments_lexer": "ipython2",
   "version": "2.7.6"
  }
 },
 "nbformat": 4,
 "nbformat_minor": 0
}
